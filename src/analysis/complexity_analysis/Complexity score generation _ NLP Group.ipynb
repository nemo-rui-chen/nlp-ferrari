{
 "cells": [
  {
   "cell_type": "code",
   "execution_count": null,
   "metadata": {},
   "outputs": [],
   "source": [
    "import re\n",
    "import requests\n",
    "from bs4 import BeautifulSoup\n",
    "import textstat\n",
    "import numpy as np\n",
    "import pandas as pd\n",
    "import seaborn as sns\n",
    "import matplotlib.pyplot as plt\n",
    "from matplotlib.pyplot import MultipleLocator"
   ]
  },
  {
   "cell_type": "markdown",
   "metadata": {},
   "source": [
    "#### Main function"
   ]
  },
  {
   "cell_type": "code",
   "execution_count": null,
   "metadata": {},
   "outputs": [],
   "source": [
    "root_path = \"C:/Users/34433/Desktop/MFFT/Courses/MFIN7036 NLP\"\n",
    "locations = pd.read_csv(\"C:/Users/34433/Desktop/MFFT/Courses/MFIN7036 NLP/Group project/locations.csv\").sort_values(by=['Company'],ascending=True)\n",
    "locations['Path'] = locations['Path'].str.replace(':','_') # replace ':' by '_' to adapt to Windows system\n",
    "scores_summary = [] # creat a blank list to save each complexity score from transcripts\n",
    "\n",
    "for i in range(0,len(locations['Date'])):\n",
    "    path = locations['Path'][i]\n",
    "    company = locations ['Company'][i]\n",
    "    date = locations['Date'][i] \n",
    "    # children will take \"True\" or \"False\". We will only preserve parent companies' transcripts and drop children companies.\n",
    "    children = locations['Children'][i] \n",
    "    file_path=path\n",
    "    if pd.isna(path) == False:\n",
    "        try:\n",
    "            text_list=parse_html(file_path) # use parse_html function to parse the html and get texts in a list\n",
    "        except:\n",
    "            continue\n",
    "        mgmt_names, analyst_names = get_mgmt_names(text_list) # use get_mgmt_names function to get hint words\n",
    "        combined_strs = get_mgmt_discussion(text_list, mgmt_names,analyst_names)\n",
    "        q_score_summary = complexity_score(combined_strs,date,company,children)\n",
    "        scores_summary.append(q_score_summary)\n",
    "    elif pd.isna(path) == True:\n",
    "        # if the path is null, we create a blank frame for this company at this date\n",
    "        q_score = {'Date':date,\n",
    "           'Company': company,\n",
    "           'Flesch score':[], 'Reading time':[], 'Sentence number':[], 'Polysyllable number':[],\n",
    "                   'Polysyllable number per sentence':[],'Children': children}\n",
    "        q_score_summary = pd.DataFrame(q_score)\n",
    "        scores_summary.append(q_score_summary)\n",
    "    else:\n",
    "        q_score = {'Date':date,\n",
    "           'Company': company,\n",
    "           'Flesch score':[], 'Reading time':[], 'Sentence number':[], 'Polysyllable number':[],\n",
    "                   'Polysyllable number per sentence':[],'Children': children}\n",
    "        q_score_summary = pd.DataFrame(q_score)\n",
    "        scores_summary.append(q_score_summary)\n",
    "summary_frame = pd.concat(scores_summary)\n",
    "summary_frame_parent = summary_frame[summary_frame['Children']==list(summary_frame['Children'])[0]]\n",
    "summary_frame_parent.to_csv(\"C:/Users/34433/Desktop/MFFT/Courses/MFIN7036 NLP/Group project/complexity_220318.csv\",index=False)"
   ]
  },
  {
   "cell_type": "code",
   "execution_count": null,
   "metadata": {},
   "outputs": [],
   "source": [
    "#f = open(\"C:/Users/34433/Desktop/MFFT/Courses/MFIN7036 NLP/pure_articles/AAPL/2011-01-18T23_05_21-05_00_Apple Management Discusses Q1 2011 Results - Earnings Call Transcript.html\",'r',encoding='utf-8')\n",
    "def parse_html(file_path):\n",
    "    f = open(root_path+file_path,'r',encoding='utf-8')\n",
    "    htmlhandle=f.read()\n",
    "    s= BeautifulSoup(htmlhandle,'lxml') # use Beautiful Soup to parse the html\n",
    "    text_list = [text for text in s.stripped_strings]\n",
    "    return text_list"
   ]
  },
  {
   "cell_type": "code",
   "execution_count": null,
   "metadata": {},
   "outputs": [],
   "source": [
    "def get_mgmt_names(raw):\n",
    "    hint_mgmt = ['Executives','Company Participants','Unverified Participant','Company Representatives','Corporate Participants']\n",
    "    hint_analyst = ['Analysts','Conference Call Participants']\n",
    "    hint_operator = ['Unidentified Company Representative','Operator']\n",
    "    mgmt_index_flag = raw.index([x for x in hint_mgmt if x in raw ][0])\n",
    "    # Some earnings call are without analysts\n",
    "    try:\n",
    "        analyst_index_flag = raw.index([x for x in hint_analyst if x in raw ][0])\n",
    "    except:\n",
    "        try: # Some transcripts may not have Analysts\n",
    "            analyst_index_flag = raw.index(\"Operator\")\n",
    "        except: # Some transcripts may even not have Operator\n",
    "            for t in raw:\n",
    "                if len(t.split(\" \"))>35: # manually set a number to detect whether it is a name or a sentence\n",
    "                    analyst_index_flag = raw.index(t)-1 # \"-1\"To make follwing analyst names blank\n",
    "                    break\n",
    "    # Deal with transcripts that do not start from Operator\n",
    "    try:\n",
    "        operator_index_flag = raw.index([x for x in hint_operator if x in raw ][0])\n",
    "    except:\n",
    "        for t in raw:\n",
    "            if len(t.split(\" \"))>35:\n",
    "                operator_index_flag = raw.index(t)\n",
    "                break\n",
    "    if operator_index_flag >25:\n",
    "        for t in raw:\n",
    "            if len(t.split(\" \"))>35:\n",
    "                operator_index_flag = raw.index(t)\n",
    "                break\n",
    "    # Some transcript may introduce management with their title in company, like \"Bob - CFO\"\n",
    "    if set(raw[mgmt_index_flag+1:analyst_index_flag]) & set (raw[operator_index_flag:]) == set(): \n",
    "        mgmt_names = [name.split(' - ')[0].split(' – ')[0] for name in raw[mgmt_index_flag+1:analyst_index_flag]]\n",
    "        try:\n",
    "            if analyst_index_flag != raw.index(\"Operator\"): \n",
    "                # Set this condition to make sure analyst exist\n",
    "                analyst_names = [name.split(' - ')[0].split(' – ')[0] for name in raw[analyst_index_flag+1:operator_index_flag]]                \n",
    "            else:\n",
    "                analyst_names = []\n",
    "        except:\n",
    "            analyst_names = []\n",
    "    else:\n",
    "        mgmt_names = raw[mgmt_index_flag+1:analyst_index_flag]\n",
    "        analyst_names = raw[analyst_index_flag+1:operator_index_flag]\n",
    "    return mgmt_names, analyst_names"
   ]
  },
  {
   "cell_type": "markdown",
   "metadata": {},
   "source": [
    "#### Get texts for each member in management and put in a list"
   ]
  },
  {
   "cell_type": "code",
   "execution_count": null,
   "metadata": {},
   "outputs": [],
   "source": [
    "def get_mgmt_discussion(text_list, mgmt_names,analyst_names):\n",
    "    hints = mgmt_names+analyst_names+['Operator','Unidentified Company Representative']\n",
    "    combined_strs = []\n",
    "    for i in range(0,len(mgmt_names)):\n",
    "        disc = []\n",
    "        flag = -1 # When flag =-1, we do not pick up text. When flag =1, we pick up texts.\n",
    "        for text in text_list:\n",
    "            if text ==mgmt_names[i]  and flag == -1:\n",
    "                flag=flag * -1\n",
    "            elif text not in hints and flag ==1:\n",
    "                disc.append(text)\n",
    "            elif text in hints and flag ==1:\n",
    "                flag=flag*-1\n",
    "            elif text not in hints and flag== -1:\n",
    "                continue\n",
    "        combined_str = (\"\\n\\n\".join(disc))\n",
    "        combined_strs.append(combined_str)       \n",
    "    return combined_strs"
   ]
  },
  {
   "cell_type": "markdown",
   "metadata": {},
   "source": [
    "#### Complexity analysis using Textstat\n",
    "##### Flesch reading ease score: \n",
    "0-29 Vergy confusing 30-49 Difficult 50-59 Fairly diffucult 60-69 Standard 70-79 Fairly Easy >=80 Easy & Very easy\n",
    "https://en.wikipedia.org/wiki/Flesch%E2%80%93Kincaid_readability_tests#Flesch%E2%80%93Kincaid_grade_level"
   ]
  },
  {
   "cell_type": "code",
   "execution_count": null,
   "metadata": {},
   "outputs": [],
   "source": [
    "def complexity_score(combined_strs,date,company,children):\n",
    "    # Use functions in Textstat to calculate different complexity scores\n",
    "    flesch_ease_scores = [textstat.flesch_reading_ease(text) for text in combined_strs]\n",
    "    mean_flesch_score = np.mean(flesch_ease_scores)\n",
    "    if mean_flesch_score < 0:\n",
    "        mean_flesch_score = 0\n",
    "    reading_times = [textstat.reading_time(text,ms_per_char=14.69) for text in combined_strs] #Assumes 14.69ms per character.\n",
    "    sentence_num =  [textstat.sentence_count (text) for text in combined_strs]\n",
    "    polysyllable_num = [textstat.polysyllabcount (text) for text in combined_strs] # The number of words with syllable >= 3\n",
    "    # Calculate plysyllabe words per sentence\n",
    "    polysyllable_per_sentence = list(map(lambda x,y: round(x/y,2), polysyllable_num,sentence_num)) \n",
    "    q_score = {'Date':date,\n",
    "               'Company': company,\n",
    "               'Flesch score':[np.round(mean_flesch_score,2)], \n",
    "               'Reading time':[np.round(np.sum(reading_times),2)], \n",
    "               'Sentence number':[np.round(np.sum(sentence_num),2)], \n",
    "               'Polysyllable number':[np.round(np.sum(polysyllable_num),2)], \n",
    "               'Polysyllable number per sentence':[np.round(np.mean(polysyllable_per_sentence),2)],\n",
    "               'Children': children}\n",
    "    q_score_summary = pd.DataFrame(q_score)\n",
    "    return q_score_summary"
   ]
  }
 ],
 "metadata": {
  "kernelspec": {
   "display_name": "Python 3",
   "language": "python",
   "name": "python3"
  },
  "language_info": {
   "codemirror_mode": {
    "name": "ipython",
    "version": 3
   },
   "file_extension": ".py",
   "mimetype": "text/x-python",
   "name": "python",
   "nbconvert_exporter": "python",
   "pygments_lexer": "ipython3",
   "version": "3.8.5"
  }
 },
 "nbformat": 4,
 "nbformat_minor": 4
}
