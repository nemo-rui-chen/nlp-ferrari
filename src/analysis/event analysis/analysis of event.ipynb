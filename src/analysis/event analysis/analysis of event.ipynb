{
 "cells": [
  {
   "cell_type": "code",
   "execution_count": 4,
   "metadata": {},
   "outputs": [],
   "source": [
    "import pandas as pd\n",
    "import datetime\n",
    "from functools import reduce\n",
    "import numpy as np\n",
    "import matplotlib.pyplot as plt"
   ]
  },
  {
   "cell_type": "code",
   "execution_count": 1,
   "metadata": {},
   "outputs": [],
   "source": [
    "def calculate_corvar(df):\n",
    "    com_name = price.columns[1:]\n",
    "    var = []\n",
    "    for com in com_name:\n",
    "    #     Calculate the 5 day Variance\n",
    "        data = []\n",
    "        df_p = price[[com,'Date']]\n",
    "        data.append(df_p)\n",
    "        for i in range(1,6):\n",
    "            df_p = price[[com]].shift(periods=i, axis=0)\n",
    "            df_p['Date'] = price['Date'][:-i]\n",
    "            data.append(df_p)\n",
    "        # Combine all the data for different dates\n",
    "        df_final = reduce(lambda left,right: pd.merge(left,right,on='Date',how='inner'), data)\n",
    "        df_final = df_final.iloc[5:]\n",
    "        df_final.index = df_final['Date']\n",
    "        df_final = df_final.drop('Date',1)\n",
    "        df_final['var'] = [np.var(df_final.iloc[i]) for i in range(df_final.shape[0])]\n",
    "        result = df[df['Company']==com][['Date','score']]\n",
    "        # Merge the data\n",
    "        df_final['Date'] = df_final.index\n",
    "        data1 = df_final[['var','Date']]\n",
    "        data1.index = [i for i in range(data1.shape[0])]\n",
    "        company = data1.merge(result,how='inner',on='Date')\n",
    "        company['Com']=com\n",
    "        # Calculate the Correlation of variance with the score\n",
    "        company['Corr_var']=company['var'].corr(company['score'])\n",
    "        var.append(company)\n",
    "    var_result = pd.concat(var)\n",
    "    return var_result"
   ]
  },
  {
   "cell_type": "code",
   "execution_count": 2,
   "metadata": {},
   "outputs": [],
   "source": [
    "# Draw the grap\n",
    "def draw_graph(var_result):  \n",
    "    corr_result = var_result[['Com','Corr_var']].drop_duplicates(keep ='first')\n",
    "    corr_result = corr_result.sort_values(by='Corr_var')\n",
    "    plt.figure(figsize=(20,5))\n",
    "    plt.axhline(0, color=\"k\")\n",
    "    x = corr_result['Com'].values\n",
    "    y = corr_result['Corr_var'].values\n",
    "    plt.bar(x,y)\n",
    "    plt.title(\"Corelation of Score and 5-days price Volatility\")\n",
    "    plt.xticks(fontsize=10,rotation=270)\n",
    "    plt.yticks(fontsize=10)\n",
    "    plt.show()"
   ]
  },
  {
   "cell_type": "code",
   "execution_count": 7,
   "metadata": {},
   "outputs": [
    {
     "data": {
      "image/png": "[encoded data removed]",
      "text/plain": [
       "<Figure size 1440x360 with 1 Axes>"
      ]
     },
     "metadata": {},
     "output_type": "display_data"
    }
   ],
   "source": [
    "# Load and clean the data\n",
    "df = pd.read_csv('event.csv')\n",
    "df['Date'] = df['Date'].apply(lambda x: datetime.datetime.strptime(x[0:10], \"%Y-%m-%d\"))\n",
    "price = pd.read_csv('prices.csv')\n",
    "price['Date'] = price['Date'].apply(lambda x: datetime.datetime.strptime(x[0:10], \"%Y-%m-%d\"))\n",
    "var_result = calculate_corvar(df)\n",
    "draw_graph(var_result) "
   ]
  },
  {
   "cell_type": "code",
   "execution_count": null,
   "metadata": {},
   "outputs": [],
   "source": []
  },
  {
   "cell_type": "code",
   "execution_count": null,
   "metadata": {},
   "outputs": [],
   "source": []
  },
  {
   "cell_type": "code",
   "execution_count": null,
   "metadata": {},
   "outputs": [],
   "source": []
  },
  {
   "cell_type": "code",
   "execution_count": null,
   "metadata": {},
   "outputs": [],
   "source": []
  },
  {
   "cell_type": "code",
   "execution_count": null,
   "metadata": {},
   "outputs": [],
   "source": []
  },
  {
   "cell_type": "code",
   "execution_count": null,
   "metadata": {},
   "outputs": [],
   "source": []
  },
  {
   "cell_type": "code",
   "execution_count": null,
   "metadata": {},
   "outputs": [],
   "source": []
  },
  {
   "cell_type": "code",
   "execution_count": null,
   "metadata": {},
   "outputs": [],
   "source": []
  },
  {
   "cell_type": "code",
   "execution_count": null,
   "metadata": {},
   "outputs": [],
   "source": []
  },
  {
   "cell_type": "code",
   "execution_count": null,
   "metadata": {},
   "outputs": [],
   "source": []
  }
 ],
 "metadata": {
  "interpreter": {
   "hash": "40d3a090f54c6569ab1632332b64b2c03c39dcf918b08424e98f38b5ae0af88f"
  },
  "kernelspec": {
   "display_name": "Python 3",
   "language": "python",
   "name": "python3"
  },
  "language_info": {
   "codemirror_mode": {
    "name": "ipython",
    "version": 3
   },
   "file_extension": ".py",
   "mimetype": "text/x-python",
   "name": "python",
   "nbconvert_exporter": "python",
   "pygments_lexer": "ipython3",
   "version": "3.6.4"
  }
 },
 "nbformat": 4,
 "nbformat_minor": 2
}
