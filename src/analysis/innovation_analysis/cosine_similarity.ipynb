{
 "cells": [
  {
   "cell_type": "code",
   "execution_count": 3,
   "metadata": {},
   "outputs": [],
   "source": [
    "from sklearn.feature_extraction.text import TfidfVectorizer\n",
    "from sklearn.metrics.pairwise import cosine_similarity\n",
    "import pandas as pd\n",
    "import pickle\n",
    "\n",
    "path = '/Users/nemo/hku/mfin7036/nlp-ferrari'"
   ]
  },
  {
   "cell_type": "code",
   "execution_count": 4,
   "metadata": {},
   "outputs": [],
   "source": [
    "articles = pd.read_csv(path + '/data/locations.csv')\n",
    "articles = articles[articles['Children'] == False]\n",
    "articles = articles[articles['Company'] != 'WMT']\n",
    "articles = articles[articles['Company'] != 'GOOGL']\n",
    "articles.dropna(inplace=True)\n",
    "\n",
    "articles.sort_values(by=['Company', 'Date'], inplace=True)\n",
    "articles.reset_index(drop=True, inplace=True)"
   ]
  },
  {
   "cell_type": "code",
   "execution_count": 5,
   "metadata": {},
   "outputs": [],
   "source": [
    "articles_arr = pickle.load(open(path + '/data/articles_arr.p', 'rb'))"
   ]
  },
  {
   "cell_type": "code",
   "execution_count": 41,
   "metadata": {},
   "outputs": [],
   "source": [
    "no_stops = pickle.load(open(path + '/data/no_stops_words.p', 'rb'))\n",
    "articles_arr = [' '.join(w) for w in no_stops]"
   ]
  },
  {
   "cell_type": "code",
   "execution_count": 44,
   "metadata": {},
   "outputs": [
    {
     "data": {
      "text/plain": [
       "2043"
      ]
     },
     "execution_count": 44,
     "metadata": {},
     "output_type": "execute_result"
    }
   ],
   "source": [
    "len(articles_arr)"
   ]
  },
  {
   "cell_type": "code",
   "execution_count": 66,
   "metadata": {},
   "outputs": [],
   "source": [
    "v = TfidfVectorizer(max_df=0.9)\n",
    "tfidf = v.fit_transform(articles_arr)"
   ]
  },
  {
   "cell_type": "code",
   "execution_count": null,
   "metadata": {},
   "outputs": [],
   "source": []
  },
  {
   "cell_type": "code",
   "execution_count": 68,
   "metadata": {},
   "outputs": [
    {
     "data": {
      "text/plain": [
       "array(['00', '000', '0000', ..., 'åsgard', 'ça', 'élan'], dtype=object)"
      ]
     },
     "execution_count": 68,
     "metadata": {},
     "output_type": "execute_result"
    }
   ],
   "source": [
    "len(v.get_feature_names_out())\n",
    "v.get_feature_names_out()"
   ]
  },
  {
   "cell_type": "code",
   "execution_count": 58,
   "metadata": {},
   "outputs": [
    {
     "data": {
      "text/plain": [
       "45"
      ]
     },
     "execution_count": 58,
     "metadata": {},
     "output_type": "execute_result"
    }
   ],
   "source": [
    "len(articles[articles['Company'] == 'AAPL'])"
   ]
  },
  {
   "cell_type": "code",
   "execution_count": 61,
   "metadata": {},
   "outputs": [
    {
     "data": {
      "text/plain": [
       "array([[0.03989611, 0.04674614, 0.04127607, 0.0434393 , 0.04455094,\n",
       "        0.04903627, 0.06492974, 0.0630256 , 0.06097579, 0.05458639],\n",
       "       [0.04209665, 0.04668728, 0.04849076, 0.05044233, 0.0462759 ,\n",
       "        0.05226252, 0.06849314, 0.06411368, 0.06227518, 0.05256367],\n",
       "       [0.03857398, 0.04195253, 0.04443285, 0.04642041, 0.04506537,\n",
       "        0.04693962, 0.06914478, 0.06226733, 0.06051319, 0.05611965],\n",
       "       [0.04093833, 0.04572065, 0.04584904, 0.04964744, 0.04745916,\n",
       "        0.05162154, 0.07669322, 0.06885272, 0.06459044, 0.06086084],\n",
       "       [0.03674375, 0.04407226, 0.04317727, 0.04611863, 0.04153473,\n",
       "        0.04817156, 0.07134834, 0.06480727, 0.05633246, 0.07061053],\n",
       "       [0.03311029, 0.03876703, 0.03855576, 0.04080894, 0.03736113,\n",
       "        0.04209359, 0.05625923, 0.06090509, 0.05519702, 0.06136788],\n",
       "       [0.0411268 , 0.04324169, 0.04382653, 0.0472576 , 0.04548918,\n",
       "        0.04758585, 0.06333995, 0.06112672, 0.06038548, 0.0511567 ],\n",
       "       [0.03880718, 0.04232915, 0.04048488, 0.0424706 , 0.04511127,\n",
       "        0.04583943, 0.06071332, 0.05911782, 0.05895234, 0.04584064],\n",
       "       [0.04414547, 0.04838258, 0.04620852, 0.04839013, 0.0457862 ,\n",
       "        0.05002617, 0.05896814, 0.05869347, 0.05589685, 0.04975422],\n",
       "       [0.0558637 , 0.06187965, 0.05455449, 0.05912288, 0.05624942,\n",
       "        0.06530266, 0.08175573, 0.08119899, 0.0811102 , 0.07331078]])"
      ]
     },
     "execution_count": 61,
     "metadata": {},
     "output_type": "execute_result"
    }
   ],
   "source": [
    "cosine_similarity(tfidf[0:10], tfidf[75:85])"
   ]
  },
  {
   "cell_type": "code",
   "execution_count": 67,
   "metadata": {},
   "outputs": [],
   "source": [
    "tfidf_df = pd.DataFrame(tfidf.toarray(),columns=v.get_feature_names_out())\n"
   ]
  },
  {
   "cell_type": "code",
   "execution_count": 54,
   "metadata": {},
   "outputs": [],
   "source": [
    "tfidf_df.to_csv(path + '/data/tfidf.csv')"
   ]
  },
  {
   "cell_type": "code",
   "execution_count": 74,
   "metadata": {},
   "outputs": [],
   "source": [
    "price_chg_3m = pd.read_csv(path + '/data/price_chg_3m.csv', index_col=0)"
   ]
  },
  {
   "cell_type": "code",
   "execution_count": 76,
   "metadata": {},
   "outputs": [
    {
     "data": {
      "text/plain": [
       "Int64Index([   1,    2,    3,    4,    5,    6,    9,   10,   12,   13,\n",
       "            ...\n",
       "            2024, 2025, 2027, 2030, 2032, 2037, 2038, 2039, 2040, 2041],\n",
       "           dtype='int64', length=1356)"
      ]
     },
     "execution_count": 76,
     "metadata": {},
     "output_type": "execute_result"
    }
   ],
   "source": [
    "price_chg_3m[price_chg_3m['p_c'] > 0].index"
   ]
  },
  {
   "cell_type": "code",
   "execution_count": 77,
   "metadata": {},
   "outputs": [
    {
     "data": {
      "text/plain": [
       "Int64Index([   0,    7,    8,   11,   17,   18,   19,   21,   27,   31,\n",
       "            ...\n",
       "            2022, 2023, 2026, 2028, 2029, 2031, 2033, 2034, 2035, 2036],\n",
       "           dtype='int64', length=640)"
      ]
     },
     "execution_count": 77,
     "metadata": {},
     "output_type": "execute_result"
    }
   ],
   "source": [
    "price_chg_3m[price_chg_3m['p_c'] <= 0].index"
   ]
  },
  {
   "cell_type": "code",
   "execution_count": 111,
   "metadata": {},
   "outputs": [],
   "source": [
    "up_tfidf = tfidf_df.iloc[price_chg_3m[price_chg_3m['p_c'] > 0].index]"
   ]
  },
  {
   "cell_type": "code",
   "execution_count": 112,
   "metadata": {},
   "outputs": [],
   "source": [
    "down_tfidf = tfidf_df.iloc[price_chg_3m[price_chg_3m['p_c'] <= 0].index]"
   ]
  },
  {
   "cell_type": "code",
   "execution_count": 113,
   "metadata": {},
   "outputs": [
    {
     "data": {
      "text/plain": [
       "0.11301263149107163"
      ]
     },
     "execution_count": 113,
     "metadata": {},
     "output_type": "execute_result"
    }
   ],
   "source": [
    "cosine_similarity(up_tfidf, up_tfidf).mean()"
   ]
  },
  {
   "cell_type": "code",
   "execution_count": 118,
   "metadata": {},
   "outputs": [
    {
     "data": {
      "text/plain": [
       "0.11235802826707979"
      ]
     },
     "execution_count": 118,
     "metadata": {},
     "output_type": "execute_result"
    }
   ],
   "source": [
    "t = cosine_similarity(up_tfidf, up_tfidf)\n",
    "\n",
    "(t.sum() - len(t)) / len(t) / (len(t) - 1)"
   ]
  },
  {
   "cell_type": "code",
   "execution_count": 95,
   "metadata": {},
   "outputs": [],
   "source": [
    "cud = cosine_similarity(up_tfidf, down_tfidf)"
   ]
  },
  {
   "cell_type": "code",
   "execution_count": 109,
   "metadata": {},
   "outputs": [
    {
     "data": {
      "text/plain": [
       "0.11282562386262464"
      ]
     },
     "execution_count": 109,
     "metadata": {},
     "output_type": "execute_result"
    }
   ],
   "source": [
    "cud.mean()"
   ]
  },
  {
   "cell_type": "code",
   "execution_count": 119,
   "metadata": {},
   "outputs": [
    {
     "data": {
      "text/plain": [
       "0.11346503567339367"
      ]
     },
     "execution_count": 119,
     "metadata": {},
     "output_type": "execute_result"
    }
   ],
   "source": [
    "t = cosine_similarity(down_tfidf, down_tfidf)\n",
    "\n",
    "(t.sum() - len(t)) / len(t) / (len(t) - 1)"
   ]
  },
  {
   "cell_type": "code",
   "execution_count": 91,
   "metadata": {},
   "outputs": [
    {
     "data": {
      "text/plain": [
       "array([[1.        , 0.73889245, 0.7378461 , ..., 0.07788288, 0.08432978,\n",
       "        0.0762031 ],\n",
       "       [0.73889245, 1.        , 0.79971079, ..., 0.06615337, 0.07384252,\n",
       "        0.07462311],\n",
       "       [0.7378461 , 0.79971079, 1.        , ..., 0.06435588, 0.0788586 ,\n",
       "        0.07449311],\n",
       "       ...,\n",
       "       [0.07788288, 0.06615337, 0.06435588, ..., 1.        , 0.59688709,\n",
       "        0.57117413],\n",
       "       [0.08432978, 0.07384252, 0.0788586 , ..., 0.59688709, 1.        ,\n",
       "        0.66267386],\n",
       "       [0.0762031 , 0.07462311, 0.07449311, ..., 0.57117413, 0.66267386,\n",
       "        1.        ]])"
      ]
     },
     "execution_count": 91,
     "metadata": {},
     "output_type": "execute_result"
    }
   ],
   "source": [
    "t"
   ]
  },
  {
   "cell_type": "code",
   "execution_count": 122,
   "metadata": {},
   "outputs": [
    {
     "data": {
      "text/plain": [
       "0.1000   -0.090225\n",
       "0.2500   -0.021786\n",
       "0.3333    0.003267\n",
       "0.5000    0.046141\n",
       "0.6666    0.091554\n",
       "0.7500    0.117090\n",
       "0.9000    0.193576\n",
       "Name: p_c, dtype: float64"
      ]
     },
     "execution_count": 122,
     "metadata": {},
     "output_type": "execute_result"
    }
   ],
   "source": [
    "price_chg_3m['p_c'].quantile([0.1, 0.25, 0.3333, 0.5, 0.6666, 0.75, 0.9])"
   ]
  },
  {
   "cell_type": "code",
   "execution_count": 123,
   "metadata": {},
   "outputs": [
    {
     "name": "stdout",
     "output_type": "stream",
     "text": [
      "uu 0.11075460358153569\n",
      "dd 0.10697891406828433\n",
      "ud 0.10864772492695547\n"
     ]
    }
   ],
   "source": [
    "up_tfidf = tfidf_df.iloc[price_chg_3m[price_chg_3m['p_c'] >= 0.193576].index]\n",
    "down_tfidf = tfidf_df.iloc[price_chg_3m[price_chg_3m['p_c'] <= -0.090225].index]\n",
    "\n",
    "t = cosine_similarity(up_tfidf, up_tfidf)\n",
    "print('uu', (t.sum() - len(t)) / len(t) / (len(t) - 1))\n",
    "\n",
    "t = cosine_similarity(down_tfidf, down_tfidf)\n",
    "print('dd', (t.sum() - len(t)) / len(t) / (len(t) - 1))\n",
    "\n",
    "t = cosine_similarity(up_tfidf, down_tfidf)\n",
    "print('ud', t.mean())"
   ]
  },
  {
   "cell_type": "code",
   "execution_count": 108,
   "metadata": {},
   "outputs": [
    {
     "name": "stdout",
     "output_type": "stream",
     "text": [
      "uu 0.10802484943470686\n",
      "dd 0.11128609168985125\n",
      "ud 0.10886081510936475\n"
     ]
    }
   ],
   "source": [
    "up_tfidf = tfidf_df.iloc[price_chg_3m[price_chg_3m['p_c'] >= 0.117090].index]\n",
    "down_tfidf = tfidf_df.iloc[price_chg_3m[price_chg_3m['p_c'] <= -0.021786].index]\n",
    "\n",
    "t = cosine_similarity(up_tfidf, up_tfidf)\n",
    "print('uu', (t.sum() - len(t)) / len(t) / (len(t) - 1))\n",
    "\n",
    "t = cosine_similarity(down_tfidf, down_tfidf)\n",
    "print('dd', (t.sum() - len(t)) / len(t) / (len(t) - 1))\n",
    "\n",
    "t = cosine_similarity(up_tfidf, down_tfidf)\n",
    "print('ud', t.mean())"
   ]
  },
  {
   "cell_type": "code",
   "execution_count": 120,
   "metadata": {},
   "outputs": [
    {
     "name": "stdout",
     "output_type": "stream",
     "text": [
      "uu 0.11019258740489096\n",
      "dd 0.11370992643594001\n",
      "ud 0.11124588101567941\n"
     ]
    }
   ],
   "source": [
    "up_tfidf = tfidf_df.iloc[price_chg_3m[price_chg_3m['p_c'] >= 0.091554].index]\n",
    "down_tfidf = tfidf_df.iloc[price_chg_3m[price_chg_3m['p_c'] <= 0.003267].index]\n",
    "\n",
    "t = cosine_similarity(up_tfidf, up_tfidf)\n",
    "print('uu', (t.sum() - len(t)) / len(t) / (len(t) - 1))\n",
    "\n",
    "t = cosine_similarity(down_tfidf, down_tfidf)\n",
    "print('dd', (t.sum() - len(t)) / len(t) / (len(t) - 1))\n",
    "\n",
    "t = cosine_similarity(up_tfidf, down_tfidf)\n",
    "print('ud', t.mean())"
   ]
  },
  {
   "cell_type": "code",
   "execution_count": 124,
   "metadata": {},
   "outputs": [
    {
     "name": "stdout",
     "output_type": "stream",
     "text": [
      "uu 0.1116162053577416\n",
      "dd 0.11423791783669547\n",
      "ud 0.11242426038903179\n"
     ]
    }
   ],
   "source": [
    "up_tfidf = tfidf_df.iloc[price_chg_3m[price_chg_3m['p_c'] >= 0.046141].index]\n",
    "down_tfidf = tfidf_df.iloc[price_chg_3m[price_chg_3m['p_c'] < 0.046141].index]\n",
    "\n",
    "t = cosine_similarity(up_tfidf, up_tfidf)\n",
    "print('uu', (t.sum() - len(t)) / len(t) / (len(t) - 1))\n",
    "\n",
    "t = cosine_similarity(down_tfidf, down_tfidf)\n",
    "print('dd', (t.sum() - len(t)) / len(t) / (len(t) - 1))\n",
    "\n",
    "t = cosine_similarity(up_tfidf, down_tfidf)\n",
    "print('ud', t.mean())"
   ]
  },
  {
   "cell_type": "code",
   "execution_count": 121,
   "metadata": {},
   "outputs": [
    {
     "name": "stdout",
     "output_type": "stream",
     "text": [
      "uu 0.11235802826707979\n",
      "dd 0.11346503567339367\n",
      "ud 0.11282562386262464\n"
     ]
    }
   ],
   "source": [
    "up_tfidf = tfidf_df.iloc[price_chg_3m[price_chg_3m['p_c'] >= 0].index]\n",
    "down_tfidf = tfidf_df.iloc[price_chg_3m[price_chg_3m['p_c'] < 0].index]\n",
    "\n",
    "t = cosine_similarity(up_tfidf, up_tfidf)\n",
    "print('uu', (t.sum() - len(t)) / len(t) / (len(t) - 1))\n",
    "\n",
    "t = cosine_similarity(down_tfidf, down_tfidf)\n",
    "print('dd', (t.sum() - len(t)) / len(t) / (len(t) - 1))\n",
    "\n",
    "t = cosine_similarity(up_tfidf, down_tfidf)\n",
    "print('ud', t.mean())"
   ]
  }
 ],
 "metadata": {
  "interpreter": {
   "hash": "46871df94ef8bf4d6d09bb814809c54070b9d3b7beb6b0833b6d009c707a5610"
  },
  "kernelspec": {
   "display_name": "Python 3.9.10 ('base')",
   "language": "python",
   "name": "python3"
  },
  "language_info": {
   "codemirror_mode": {
    "name": "ipython",
    "version": 3
   },
   "file_extension": ".py",
   "mimetype": "text/x-python",
   "name": "python",
   "nbconvert_exporter": "python",
   "pygments_lexer": "ipython3",
   "version": "3.9.10"
  },
  "orig_nbformat": 4
 },
 "nbformat": 4,
 "nbformat_minor": 2
}
