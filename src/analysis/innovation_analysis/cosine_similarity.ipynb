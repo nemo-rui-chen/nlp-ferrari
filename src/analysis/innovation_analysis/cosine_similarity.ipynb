{
 "cells": [
  {
   "cell_type": "code",
   "execution_count": 3,
   "metadata": {},
   "outputs": [],
   "source": [
    "from sklearn.feature_extraction.text import TfidfVectorizer\n",
    "from sklearn.metrics.pairwise import cosine_similarity\n",
    "import pandas as pd\n",
    "import pickle\n",
    "\n",
    "path = '/Users/nemo/hku/mfin7036/nlp-ferrari'"
   ]
  },
  {
   "cell_type": "markdown",
   "metadata": {},
   "source": [
    "### exclude those earning call which is not valid"
   ]
  },
  {
   "cell_type": "code",
   "execution_count": 4,
   "metadata": {},
   "outputs": [],
   "source": [
    "articles = pd.read_csv(path + '/data/locations.csv')\n",
    "articles = articles[articles['Children'] == False]\n",
    "articles = articles[articles['Company'] != 'WMT']\n",
    "articles = articles[articles['Company'] != 'GOOGL']\n",
    "articles.dropna(inplace=True)\n",
    "\n",
    "articles.sort_values(by=['Company', 'Date'], inplace=True)\n",
    "articles.reset_index(drop=True, inplace=True)"
   ]
  },
  {
   "cell_type": "code",
   "execution_count": 5,
   "metadata": {},
   "outputs": [],
   "source": [
    "articles_arr = pickle.load(open(path + '/data/articles_arr.p', 'rb'))"
   ]
  },
  {
   "cell_type": "code",
   "execution_count": 41,
   "metadata": {},
   "outputs": [],
   "source": [
    "no_stops = pickle.load(open(path + '/data/no_stops_words.p', 'rb'))\n",
    "articles_arr = [' '.join(w) for w in no_stops]"
   ]
  },
  {
   "cell_type": "code",
   "execution_count": 66,
   "metadata": {},
   "outputs": [],
   "source": [
    "v = TfidfVectorizer(max_df=0.9)\n",
    "tfidf = v.fit_transform(articles_arr)"
   ]
  },
  {
   "cell_type": "code",
   "execution_count": 67,
   "metadata": {},
   "outputs": [],
   "source": [
    "tfidf_df = pd.DataFrame(tfidf.toarray(),columns=v.get_feature_names_out())\n",
    "tfidf_df.to_csv(path + '/data/tfidf.csv')"
   ]
  },
  {
   "cell_type": "code",
   "execution_count": 74,
   "metadata": {},
   "outputs": [],
   "source": [
    "price_chg_3m = pd.read_csv(path + '/data/price_chg_3m.csv', index_col=0)"
   ]
  },
  {
   "cell_type": "markdown",
   "metadata": {},
   "source": [
    "## calculate the cosine similarity for groups splitted by stock return"
   ]
  },
  {
   "cell_type": "code",
   "execution_count": 122,
   "metadata": {},
   "outputs": [
    {
     "data": {
      "text/plain": [
       "0.1000   -0.090225\n",
       "0.2500   -0.021786\n",
       "0.3333    0.003267\n",
       "0.5000    0.046141\n",
       "0.6666    0.091554\n",
       "0.7500    0.117090\n",
       "0.9000    0.193576\n",
       "Name: p_c, dtype: float64"
      ]
     },
     "execution_count": 122,
     "metadata": {},
     "output_type": "execute_result"
    }
   ],
   "source": [
    "price_chg_3m['p_c'].quantile([0.1, 0.25, 0.3333, 0.5, 0.6666, 0.75, 0.9])"
   ]
  },
  {
   "cell_type": "code",
   "execution_count": 123,
   "metadata": {},
   "outputs": [
    {
     "name": "stdout",
     "output_type": "stream",
     "text": [
      "uu 0.11075460358153569\n",
      "dd 0.10697891406828433\n",
      "ud 0.10864772492695547\n"
     ]
    }
   ],
   "source": [
    "up_tfidf = tfidf_df.iloc[price_chg_3m[price_chg_3m['p_c'] >= 0.193576].index]\n",
    "down_tfidf = tfidf_df.iloc[price_chg_3m[price_chg_3m['p_c'] <= -0.090225].index]\n",
    "\n",
    "t = cosine_similarity(up_tfidf, up_tfidf)\n",
    "print('uu', (t.sum() - len(t)) / len(t) / (len(t) - 1))\n",
    "\n",
    "t = cosine_similarity(down_tfidf, down_tfidf)\n",
    "print('dd', (t.sum() - len(t)) / len(t) / (len(t) - 1))\n",
    "\n",
    "t = cosine_similarity(up_tfidf, down_tfidf)\n",
    "print('ud', t.mean())"
   ]
  },
  {
   "cell_type": "code",
   "execution_count": 108,
   "metadata": {},
   "outputs": [
    {
     "name": "stdout",
     "output_type": "stream",
     "text": [
      "uu 0.10802484943470686\n",
      "dd 0.11128609168985125\n",
      "ud 0.10886081510936475\n"
     ]
    }
   ],
   "source": [
    "up_tfidf = tfidf_df.iloc[price_chg_3m[price_chg_3m['p_c'] >= 0.117090].index]\n",
    "down_tfidf = tfidf_df.iloc[price_chg_3m[price_chg_3m['p_c'] <= -0.021786].index]\n",
    "\n",
    "t = cosine_similarity(up_tfidf, up_tfidf)\n",
    "print('uu', (t.sum() - len(t)) / len(t) / (len(t) - 1))\n",
    "\n",
    "t = cosine_similarity(down_tfidf, down_tfidf)\n",
    "print('dd', (t.sum() - len(t)) / len(t) / (len(t) - 1))\n",
    "\n",
    "t = cosine_similarity(up_tfidf, down_tfidf)\n",
    "print('ud', t.mean())"
   ]
  },
  {
   "cell_type": "code",
   "execution_count": 120,
   "metadata": {},
   "outputs": [
    {
     "name": "stdout",
     "output_type": "stream",
     "text": [
      "uu 0.11019258740489096\n",
      "dd 0.11370992643594001\n",
      "ud 0.11124588101567941\n"
     ]
    }
   ],
   "source": [
    "up_tfidf = tfidf_df.iloc[price_chg_3m[price_chg_3m['p_c'] >= 0.091554].index]\n",
    "down_tfidf = tfidf_df.iloc[price_chg_3m[price_chg_3m['p_c'] <= 0.003267].index]\n",
    "\n",
    "t = cosine_similarity(up_tfidf, up_tfidf)\n",
    "print('uu', (t.sum() - len(t)) / len(t) / (len(t) - 1))\n",
    "\n",
    "t = cosine_similarity(down_tfidf, down_tfidf)\n",
    "print('dd', (t.sum() - len(t)) / len(t) / (len(t) - 1))\n",
    "\n",
    "t = cosine_similarity(up_tfidf, down_tfidf)\n",
    "print('ud', t.mean())"
   ]
  },
  {
   "cell_type": "code",
   "execution_count": 124,
   "metadata": {},
   "outputs": [
    {
     "name": "stdout",
     "output_type": "stream",
     "text": [
      "uu 0.1116162053577416\n",
      "dd 0.11423791783669547\n",
      "ud 0.11242426038903179\n"
     ]
    }
   ],
   "source": [
    "up_tfidf = tfidf_df.iloc[price_chg_3m[price_chg_3m['p_c'] >= 0.046141].index]\n",
    "down_tfidf = tfidf_df.iloc[price_chg_3m[price_chg_3m['p_c'] < 0.046141].index]\n",
    "\n",
    "t = cosine_similarity(up_tfidf, up_tfidf)\n",
    "print('uu', (t.sum() - len(t)) / len(t) / (len(t) - 1))\n",
    "\n",
    "t = cosine_similarity(down_tfidf, down_tfidf)\n",
    "print('dd', (t.sum() - len(t)) / len(t) / (len(t) - 1))\n",
    "\n",
    "t = cosine_similarity(up_tfidf, down_tfidf)\n",
    "print('ud', t.mean())"
   ]
  },
  {
   "cell_type": "code",
   "execution_count": 121,
   "metadata": {},
   "outputs": [
    {
     "name": "stdout",
     "output_type": "stream",
     "text": [
      "uu 0.11235802826707979\n",
      "dd 0.11346503567339367\n",
      "ud 0.11282562386262464\n"
     ]
    }
   ],
   "source": [
    "up_tfidf = tfidf_df.iloc[price_chg_3m[price_chg_3m['p_c'] >= 0].index]\n",
    "down_tfidf = tfidf_df.iloc[price_chg_3m[price_chg_3m['p_c'] < 0].index]\n",
    "\n",
    "t = cosine_similarity(up_tfidf, up_tfidf)\n",
    "print('uu', (t.sum() - len(t)) / len(t) / (len(t) - 1))\n",
    "\n",
    "t = cosine_similarity(down_tfidf, down_tfidf)\n",
    "print('dd', (t.sum() - len(t)) / len(t) / (len(t) - 1))\n",
    "\n",
    "t = cosine_similarity(up_tfidf, down_tfidf)\n",
    "print('ud', t.mean())"
   ]
  }
 ],
 "metadata": {
  "interpreter": {
   "hash": "46871df94ef8bf4d6d09bb814809c54070b9d3b7beb6b0833b6d009c707a5610"
  },
  "kernelspec": {
   "display_name": "Python 3.9.10 ('base')",
   "language": "python",
   "name": "python3"
  },
  "language_info": {
   "codemirror_mode": {
    "name": "ipython",
    "version": 3
   },
   "file_extension": ".py",
   "mimetype": "text/x-python",
   "name": "python",
   "nbconvert_exporter": "python",
   "pygments_lexer": "ipython3",
   "version": "3.9.10"
  },
  "orig_nbformat": 4
 },
 "nbformat": 4,
 "nbformat_minor": 2
}
