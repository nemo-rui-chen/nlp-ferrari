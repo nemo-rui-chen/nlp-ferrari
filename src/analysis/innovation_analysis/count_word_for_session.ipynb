{
 "cells": [
  {
   "cell_type": "code",
   "execution_count": 4,
   "metadata": {},
   "outputs": [],
   "source": [
    "import pandas as pd\n",
    "from bs4 import BeautifulSoup"
   ]
  },
  {
   "cell_type": "code",
   "execution_count": 146,
   "metadata": {},
   "outputs": [],
   "source": [
    "articles = pd.read_csv('./data/locations.csv')\n",
    "articles = articles[articles['Children'] == False]\n",
    "articles = articles[articles['Company'] != 'WMT']\n",
    "articles = articles[articles['Company'] != 'GOOGL']\n",
    "articles.dropna(inplace=True)\n",
    "\n",
    "articles.sort_values(by=['Company', 'Date'], inplace=True)\n",
    "articles.reset_index(drop=True, inplace=True)\n"
   ]
  },
  {
   "cell_type": "code",
   "execution_count": 172,
   "metadata": {},
   "outputs": [],
   "source": [
    "def is_qa_session(s):\n",
    "    if s == None:\n",
    "        return False\n",
    "    s1 = s.parent.text\n",
    "    s1 = s1.strip().lower().replace('-', ' ') \n",
    "    if s1 == 'question and answer session':\n",
    "        return True\n",
    "    else:\n",
    "        if s1 in ['question and', 'question']:\n",
    "            p_s = s.parent.parent.text\n",
    "            if p_s.strip().lower().replace('-', ' ') == 'question and answer session':\n",
    "                return True\n",
    "\n",
    "    return False\n",
    "\n",
    "def find_tag(row):\n",
    "    path = './data' + row['Path']\n",
    "    article = open(path, 'r')\n",
    "    soup = BeautifulSoup(article, 'html.parser')\n",
    "\n",
    "    header = soup.find_all(['p', 'strong'], string=is_qa_session)\n",
    "    if len(header)== 2:\n",
    "        if header[0].text != header[1].text:\n",
    "            print(path)\n",
    "    if header == None:\n",
    "        print(path)\n",
    "    \n",
    "    header = header[0]\n",
    "    pre_count = 0\n",
    "    next_count = 0\n",
    "    pre = header.find_all_previous('p')\n",
    "    for p in pre:\n",
    "        pre_count += len(p.text)\n",
    "    next = header.find_all_next('p')\n",
    "    for n in next:\n",
    "        next_count += len(n.text)\n",
    "\n",
    "    return [pre_count, next_count]\n",
    "    \n",
    "word_count = articles.apply(find_tag, axis=1, result_type='expand')\n",
    "\n",
    "word_count.rename(columns={0: 'speech_word', 1: 'qa_word'}, inplace=True)\n",
    "\n",
    "df_temp = pd.concat([articles, word_count], axis=1)\n"
   ]
  },
  {
   "cell_type": "code",
   "execution_count": 173,
   "metadata": {},
   "outputs": [],
   "source": [
    "df_temp.to_csv('./data/word_count_by_session.csv')"
   ]
  }
 ],
 "metadata": {
  "interpreter": {
   "hash": "46871df94ef8bf4d6d09bb814809c54070b9d3b7beb6b0833b6d009c707a5610"
  },
  "kernelspec": {
   "display_name": "Python 3.9.10 ('base')",
   "language": "python",
   "name": "python3"
  },
  "language_info": {
   "codemirror_mode": {
    "name": "ipython",
    "version": 3
   },
   "file_extension": ".py",
   "mimetype": "text/x-python",
   "name": "python",
   "nbconvert_exporter": "python",
   "pygments_lexer": "ipython3",
   "version": "3.9.10"
  },
  "orig_nbformat": 4
 },
 "nbformat": 4,
 "nbformat_minor": 2
}
