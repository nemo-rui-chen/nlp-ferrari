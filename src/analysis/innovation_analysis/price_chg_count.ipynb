{
 "cells": [
  {
   "cell_type": "code",
   "execution_count": 2,
   "metadata": {},
   "outputs": [],
   "source": [
    "from sklearn.feature_extraction.text import TfidfVectorizer\n",
    "from sklearn.metrics.pairwise import cosine_similarity\n",
    "import pandas as pd\n",
    "import pickle\n",
    "\n",
    "path = '/Users/nemo/hku/mfin7036/nlp-ferrari'"
   ]
  },
  {
   "cell_type": "code",
   "execution_count": 88,
   "metadata": {},
   "outputs": [],
   "source": [
    "prices = pd.read_csv(path + '/data/prices.csv', index_col='Date')"
   ]
  },
  {
   "cell_type": "code",
   "execution_count": 53,
   "metadata": {},
   "outputs": [],
   "source": [
    "articles = pd.read_csv(path + '/data/locations.csv')\n",
    "articles = articles[articles['Children'] == False]\n",
    "articles = articles[articles['Company'] != 'WMT']\n",
    "articles = articles[articles['Company'] != 'GOOGL']\n",
    "articles.dropna(inplace=True)\n",
    "\n",
    "articles.sort_values(by=['Company', 'Date'], inplace=True)\n",
    "articles.reset_index(drop=True, inplace=True)"
   ]
  },
  {
   "cell_type": "code",
   "execution_count": 111,
   "metadata": {},
   "outputs": [
    {
     "data": {
      "text/plain": [
       "0      2011-01-18\n",
       "1      2011-04-20\n",
       "2      2011-07-19\n",
       "3      2011-10-18\n",
       "4      2012-01-24\n",
       "          ...    \n",
       "2038   2021-02-02\n",
       "2039   2021-04-30\n",
       "2040   2021-07-30\n",
       "2041   2021-10-29\n",
       "2042   2022-02-01\n",
       "Name: b_d, Length: 2043, dtype: datetime64[ns]"
      ]
     },
     "execution_count": 111,
     "metadata": {},
     "output_type": "execute_result"
    }
   ],
   "source": [
    "articles['b_d'] = pd.to_datetime(articles['SpecificDate'].apply(lambda s:s[:10]))\n",
    "articles['b_d']"
   ]
  },
  {
   "cell_type": "code",
   "execution_count": 109,
   "metadata": {},
   "outputs": [
    {
     "data": {
      "text/html": [
       "<div>\n",
       "<style scoped>\n",
       "    .dataframe tbody tr th:only-of-type {\n",
       "        vertical-align: middle;\n",
       "    }\n",
       "\n",
       "    .dataframe tbody tr th {\n",
       "        vertical-align: top;\n",
       "    }\n",
       "\n",
       "    .dataframe thead th {\n",
       "        text-align: right;\n",
       "    }\n",
       "</style>\n",
       "<table border=\"1\" class=\"dataframe\">\n",
       "  <thead>\n",
       "    <tr style=\"text-align: right;\">\n",
       "      <th></th>\n",
       "      <th>Date</th>\n",
       "      <th>Company</th>\n",
       "      <th>Path</th>\n",
       "      <th>SpecificDate</th>\n",
       "      <th>Children</th>\n",
       "      <th>b_d</th>\n",
       "      <th>e_d</th>\n",
       "    </tr>\n",
       "  </thead>\n",
       "  <tbody>\n",
       "    <tr>\n",
       "      <th>226</th>\n",
       "      <td>2014Q1</td>\n",
       "      <td>AMD</td>\n",
       "      <td>/pure_articles/AMD/2014-04-18T07:28:02-04:00_A...</td>\n",
       "      <td>2014-04-18T07:28:02-04:00</td>\n",
       "      <td>False</td>\n",
       "      <td>2014-04-18</td>\n",
       "      <td>2014-07-18</td>\n",
       "    </tr>\n",
       "  </tbody>\n",
       "</table>\n",
       "</div>"
      ],
      "text/plain": [
       "       Date Company                                               Path  \\\n",
       "226  2014Q1     AMD  /pure_articles/AMD/2014-04-18T07:28:02-04:00_A...   \n",
       "\n",
       "                  SpecificDate  Children        b_d        e_d  \n",
       "226  2014-04-18T07:28:02-04:00     False 2014-04-18 2014-07-18  "
      ]
     },
     "execution_count": 109,
     "metadata": {},
     "output_type": "execute_result"
    }
   ],
   "source": [
    "articles[articles['b_d'] == '2014-04-18']"
   ]
  },
  {
   "cell_type": "code",
   "execution_count": 112,
   "metadata": {},
   "outputs": [],
   "source": [
    "articles['e_d'] = articles['b_d'] + pd.DateOffset(months=3)"
   ]
  },
  {
   "cell_type": "code",
   "execution_count": 124,
   "metadata": {},
   "outputs": [],
   "source": [
    "def cal_price_change(row):\n",
    "    comp = row['Company']\n",
    "    b_d = row['b_d']\n",
    "    b_d_s = b_d.strftime('%Y-%m-%d')\n",
    "    while b_d_s not in prices.index and b_d < pd.Timestamp('2022-03-08'):\n",
    "        b_d += pd.DateOffset(days=1)\n",
    "        b_d_s = b_d.strftime('%Y-%m-%d')\n",
    "\n",
    "    e_d = row['e_d']\n",
    "    e_d_s = e_d.strftime('%Y-%m-%d')\n",
    "    while e_d_s not in prices.index and e_d < pd.Timestamp('2022-03-08'):\n",
    "        e_d += pd.DateOffset(days=1)\n",
    "        e_d_s = e_d.strftime('%Y-%m-%d')\n",
    "    e_d = row['b_d']\n",
    "\n",
    "    if e_d_s not in prices.index:\n",
    "        return None\n",
    "        \n",
    "    b_p = prices[comp][b_d_s]\n",
    "    e_p = prices[comp][e_d_s]\n",
    "    #return (b_d_s, b_p, e_p, (e_p - b_p) / b_p)\n",
    "    return (e_p - b_p) / b_p"
   ]
  },
  {
   "cell_type": "code",
   "execution_count": 125,
   "metadata": {},
   "outputs": [],
   "source": [
    "#articles[articles['Company'] == 'AAPL'].apply(cal_price_change, axis=1)\n",
    "articles['p_c'] = articles.apply(cal_price_change, axis=1)"
   ]
  },
  {
   "cell_type": "code",
   "execution_count": 127,
   "metadata": {},
   "outputs": [],
   "source": [
    "articles.to_csv('./data/price_chg_3m.csv')"
   ]
  }
 ],
 "metadata": {
  "interpreter": {
   "hash": "46871df94ef8bf4d6d09bb814809c54070b9d3b7beb6b0833b6d009c707a5610"
  },
  "kernelspec": {
   "display_name": "Python 3.9.10 ('base')",
   "language": "python",
   "name": "python3"
  },
  "language_info": {
   "codemirror_mode": {
    "name": "ipython",
    "version": 3
   },
   "file_extension": ".py",
   "mimetype": "text/x-python",
   "name": "python",
   "nbconvert_exporter": "python",
   "pygments_lexer": "ipython3",
   "version": "3.9.10"
  },
  "orig_nbformat": 4
 },
 "nbformat": 4,
 "nbformat_minor": 2
}
