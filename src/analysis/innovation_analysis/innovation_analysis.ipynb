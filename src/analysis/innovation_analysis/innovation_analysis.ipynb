{
 "cells": [
  {
   "cell_type": "code",
   "execution_count": 116,
   "metadata": {},
   "outputs": [],
   "source": [
    "from sklearn.feature_extraction.text import TfidfVectorizer\n",
    "from sklearn import preprocessing\n",
    "from sklearn.metrics.pairwise import cosine_similarity\n",
    "import pandas as pd\n",
    "import pickle\n",
    "import numpy as np\n",
    "\n",
    "path = '/Users/nemo/hku/mfin7036/nlp-ferrari'"
   ]
  },
  {
   "cell_type": "code",
   "execution_count": 117,
   "metadata": {},
   "outputs": [],
   "source": [
    "articles = pd.read_csv(path + '/data/locations.csv')\n",
    "articles = articles[articles['Children'] == False]\n",
    "articles = articles[articles['Company'] != 'WMT']\n",
    "articles = articles[articles['Company'] != 'GOOGL']\n",
    "articles.dropna(inplace=True)\n",
    "\n",
    "articles.sort_values(by=['Company', 'Date'], inplace=True)\n",
    "articles.reset_index(drop=True, inplace=True)"
   ]
  },
  {
   "cell_type": "code",
   "execution_count": 118,
   "metadata": {},
   "outputs": [],
   "source": [
    "price_chg_3m = pd.read_csv(path + '/data/price_chg_3m.csv', index_col=0)"
   ]
  },
  {
   "cell_type": "code",
   "execution_count": 119,
   "metadata": {},
   "outputs": [],
   "source": [
    "innovation_number = pd.read_csv(path + '/data/innovation_number.csv', index_col=0)"
   ]
  },
  {
   "cell_type": "code",
   "execution_count": 120,
   "metadata": {},
   "outputs": [],
   "source": [
    "innovation_number = innovation_number.iloc[price_chg_3m.dropna().index]\n",
    "price_chg_3m.dropna(inplace=True)"
   ]
  },
  {
   "cell_type": "code",
   "execution_count": 121,
   "metadata": {},
   "outputs": [],
   "source": [
    "innovation_number.reset_index(inplace=True)\n",
    "price_chg_3m.reset_index(inplace=True)"
   ]
  },
  {
   "cell_type": "code",
   "execution_count": 122,
   "metadata": {},
   "outputs": [],
   "source": [
    "x1 = preprocessing.scale(innovation_number['sum'])"
   ]
  },
  {
   "cell_type": "code",
   "execution_count": 123,
   "metadata": {},
   "outputs": [],
   "source": [
    "x2 = preprocessing.scale(innovation_number['ratio'])"
   ]
  },
  {
   "cell_type": "code",
   "execution_count": 124,
   "metadata": {},
   "outputs": [],
   "source": [
    "x3 =preprocessing.scale(price_chg_3m['p_c'])"
   ]
  },
  {
   "cell_type": "code",
   "execution_count": 139,
   "metadata": {},
   "outputs": [
    {
     "name": "stdout",
     "output_type": "stream",
     "text": [
      "[[ 1.00050125 -0.02618012]\n",
      " [-0.02618012  1.00050125]]\n"
     ]
    }
   ],
   "source": [
    "print(np.cov(x2, x3))"
   ]
  },
  {
   "cell_type": "code",
   "execution_count": 126,
   "metadata": {},
   "outputs": [
    {
     "data": {
      "text/plain": [
       "0.25     4.0\n",
       "0.33     5.0\n",
       "0.50     8.0\n",
       "0.75    14.0\n",
       "Name: sum, dtype: float64"
      ]
     },
     "execution_count": 126,
     "metadata": {},
     "output_type": "execute_result"
    }
   ],
   "source": [
    "innovation_number['sum'].quantile([0.25, 0.33, 0.5, 0.75])"
   ]
  },
  {
   "cell_type": "code",
   "execution_count": 127,
   "metadata": {},
   "outputs": [
    {
     "name": "stdout",
     "output_type": "stream",
     "text": [
      "mean      0.050601\n",
      "median    0.047533\n",
      "Name: p_c, dtype: float64\n",
      "mean      0.061618\n",
      "median    0.045730\n",
      "Name: p_c, dtype: float64\n"
     ]
    }
   ],
   "source": [
    "more = price_chg_3m.iloc[innovation_number[innovation_number['sum'] >=14].index]\n",
    "less = price_chg_3m.iloc[innovation_number[innovation_number['sum'] <= 4].index]\n",
    "\n",
    "print(more['p_c'].agg(['mean', 'median']))\n",
    "print(less['p_c'].agg(['mean', 'median']))"
   ]
  },
  {
   "cell_type": "code",
   "execution_count": 128,
   "metadata": {},
   "outputs": [
    {
     "name": "stdout",
     "output_type": "stream",
     "text": [
      "mean      0.068273\n",
      "median    0.050279\n",
      "Name: p_c, dtype: float64\n",
      "mean      0.055565\n",
      "median    0.040172\n",
      "Name: p_c, dtype: float64\n",
      "mean      0.051911\n",
      "median    0.033030\n",
      "Name: p_c, dtype: float64\n",
      "mean      0.064412\n",
      "median    0.049474\n",
      "Name: p_c, dtype: float64\n",
      "mean      0.057981\n",
      "median    0.043454\n",
      "Name: p_c, dtype: float64\n",
      "mean      0.050688\n",
      "median    0.053752\n",
      "Name: p_c, dtype: float64\n",
      "mean      0.049805\n",
      "median    0.050412\n",
      "Name: p_c, dtype: float64\n",
      "mean      0.050064\n",
      "median    0.055665\n",
      "Name: p_c, dtype: float64\n",
      "mean      0.046079\n",
      "median    0.039134\n",
      "Name: p_c, dtype: float64\n",
      "mean      0.055001\n",
      "median    0.049981\n",
      "Name: p_c, dtype: float64\n"
     ]
    }
   ],
   "source": [
    "#arr = innovation_number['ratio'].quantile([0, 0.25, 0.5, 0.75, 1]).to_list()\n",
    "\n",
    "\n",
    "arr = innovation_number['ratio'].quantile([i / 10 for i in range(11)]).to_list()\n",
    "for i in range(len(arr)):\n",
    "    if (i == 0):\n",
    "        continue\n",
    "    more = price_chg_3m.iloc[innovation_number[\n",
    "        (innovation_number['ratio'] >= arr[i - 1]) & (innovation_number['ratio'] <= arr[i])].index]\n",
    "    print(more['p_c'].agg(['mean', 'median']))"
   ]
  },
  {
   "cell_type": "code",
   "execution_count": 129,
   "metadata": {},
   "outputs": [
    {
     "data": {
      "text/plain": [
       "0.00    0.000000\n",
       "0.10    0.000331\n",
       "0.25    0.001149\n",
       "0.33    0.001492\n",
       "0.50    0.002299\n",
       "0.75    0.003873\n",
       "0.90    0.006113\n",
       "1.00    0.021444\n",
       "Name: ratio, dtype: float64"
      ]
     },
     "execution_count": 129,
     "metadata": {},
     "output_type": "execute_result"
    }
   ],
   "source": [
    "innovation_number['ratio'].quantile([0, 0.1, 0.25, 0.33, 0.5, 0.75, 0.9, 1])"
   ]
  },
  {
   "cell_type": "code",
   "execution_count": 132,
   "metadata": {},
   "outputs": [],
   "source": [
    "q = innovation_number['ratio'].quantile([0, 0.1, 0.25, 0.33, 0.5, 0.75, 0.9, 1]).to_list()"
   ]
  },
  {
   "cell_type": "code",
   "execution_count": 134,
   "metadata": {},
   "outputs": [
    {
     "data": {
      "text/plain": [
       "[0.0,\n",
       " 0.00033137371438605003,\n",
       " 0.0011490989044195,\n",
       " 0.00149224337672745,\n",
       " 0.00229852075446025,\n",
       " 0.00387336356045075,\n",
       " 0.0061132117531468005,\n",
       " 0.0214435146443514]"
      ]
     },
     "execution_count": 134,
     "metadata": {},
     "output_type": "execute_result"
    }
   ],
   "source": [
    "q"
   ]
  },
  {
   "cell_type": "code",
   "execution_count": 135,
   "metadata": {},
   "outputs": [
    {
     "name": "stdout",
     "output_type": "stream",
     "text": [
      "mean      0.055001\n",
      "median    0.049981\n",
      "Name: p_c, dtype: float64\n",
      "mean      0.068273\n",
      "median    0.050279\n",
      "Name: p_c, dtype: float64\n"
     ]
    }
   ],
   "source": [
    "more = price_chg_3m.iloc[innovation_number[innovation_number['ratio'] >= q[-2]].index]\n",
    "less = price_chg_3m.iloc[innovation_number[innovation_number['ratio'] <= q[1]].index]\n",
    "\n",
    "print(more['p_c'].agg(['mean', 'median']))\n",
    "print(less['p_c'].agg(['mean', 'median']))"
   ]
  },
  {
   "cell_type": "code",
   "execution_count": 136,
   "metadata": {},
   "outputs": [
    {
     "name": "stdout",
     "output_type": "stream",
     "text": [
      "mean      0.052238\n",
      "median    0.045792\n",
      "Name: p_c, dtype: float64\n",
      "mean      0.057810\n",
      "median    0.041188\n",
      "Name: p_c, dtype: float64\n"
     ]
    }
   ],
   "source": [
    "more = price_chg_3m.iloc[innovation_number[innovation_number['ratio'] >= q[-3]].index]\n",
    "less = price_chg_3m.iloc[innovation_number[innovation_number['ratio'] <= q[2]].index]\n",
    "\n",
    "print(more['p_c'].agg(['mean', 'median']))\n",
    "print(less['p_c'].agg(['mean', 'median']))"
   ]
  },
  {
   "cell_type": "code",
   "execution_count": 137,
   "metadata": {},
   "outputs": [
    {
     "name": "stdout",
     "output_type": "stream",
     "text": [
      "mean      0.050138\n",
      "median    0.048290\n",
      "Name: p_c, dtype: float64\n",
      "mean      0.059253\n",
      "median    0.043477\n",
      "Name: p_c, dtype: float64\n"
     ]
    }
   ],
   "source": [
    "more = price_chg_3m.iloc[innovation_number[innovation_number['ratio'] >= q[-4]].index]\n",
    "less = price_chg_3m.iloc[innovation_number[innovation_number['ratio'] <= q[3]].index]\n",
    "\n",
    "print(more['p_c'].agg(['mean', 'median']))\n",
    "print(less['p_c'].agg(['mean', 'median']))"
   ]
  },
  {
   "cell_type": "code",
   "execution_count": 138,
   "metadata": {},
   "outputs": [
    {
     "name": "stdout",
     "output_type": "stream",
     "text": [
      "mean      0.050138\n",
      "median    0.048290\n",
      "Name: p_c, dtype: float64\n",
      "mean      0.059431\n",
      "median    0.044397\n",
      "Name: p_c, dtype: float64\n"
     ]
    }
   ],
   "source": [
    "more = price_chg_3m.iloc[innovation_number[innovation_number['ratio'] >= q[4]].index]\n",
    "less = price_chg_3m.iloc[innovation_number[innovation_number['ratio'] < q[4]].index]\n",
    "\n",
    "print(more['p_c'].agg(['mean', 'median']))\n",
    "print(less['p_c'].agg(['mean', 'median']))"
   ]
  }
 ],
 "metadata": {
  "interpreter": {
   "hash": "46871df94ef8bf4d6d09bb814809c54070b9d3b7beb6b0833b6d009c707a5610"
  },
  "kernelspec": {
   "display_name": "Python 3.9.10 ('base')",
   "language": "python",
   "name": "python3"
  },
  "language_info": {
   "codemirror_mode": {
    "name": "ipython",
    "version": 3
   },
   "file_extension": ".py",
   "mimetype": "text/x-python",
   "name": "python",
   "nbconvert_exporter": "python",
   "pygments_lexer": "ipython3",
   "version": "3.9.10"
  },
  "orig_nbformat": 4
 },
 "nbformat": 4,
 "nbformat_minor": 2
}
