{
 "cells": [
  {
   "cell_type": "code",
   "execution_count": 116,
   "metadata": {},
   "outputs": [],
   "source": [
    "from sklearn.feature_extraction.text import TfidfVectorizer\n",
    "from sklearn import preprocessing\n",
    "from sklearn.metrics.pairwise import cosine_similarity\n",
    "import pandas as pd\n",
    "import pickle\n",
    "import numpy as np\n",
    "\n",
    "path = '/Users/nemo/hku/mfin7036/nlp-ferrari'"
   ]
  },
  {
   "cell_type": "markdown",
   "metadata": {},
   "source": [
    "### exclude those earning call which is not valid"
   ]
  },
  {
   "cell_type": "code",
   "execution_count": 117,
   "metadata": {},
   "outputs": [],
   "source": [
    "articles = pd.read_csv(path + '/data/locations.csv')\n",
    "articles = articles[articles['Children'] == False]\n",
    "articles = articles[articles['Company'] != 'WMT']\n",
    "articles = articles[articles['Company'] != 'GOOGL']\n",
    "articles.dropna(inplace=True)\n",
    "\n",
    "articles.sort_values(by=['Company', 'Date'], inplace=True)\n",
    "articles.reset_index(drop=True, inplace=True)"
   ]
  },
  {
   "cell_type": "code",
   "execution_count": 118,
   "metadata": {},
   "outputs": [],
   "source": [
    "price_chg_3m = pd.read_csv(path + '/data/price_chg_3m.csv', index_col=0)"
   ]
  },
  {
   "cell_type": "code",
   "execution_count": 119,
   "metadata": {},
   "outputs": [],
   "source": [
    "innovation_number = pd.read_csv(path + '/data/innovation_number.csv', index_col=0)"
   ]
  },
  {
   "cell_type": "code",
   "execution_count": 120,
   "metadata": {},
   "outputs": [],
   "source": [
    "innovation_number = innovation_number.iloc[price_chg_3m.dropna().index]\n",
    "price_chg_3m.dropna(inplace=True)\n",
    "innovation_number.reset_index(inplace=True)\n",
    "price_chg_3m.reset_index(inplace=True)"
   ]
  },
  {
   "cell_type": "markdown",
   "metadata": {},
   "source": [
    "## calculate the mean and median for each group splitted by innnovation ratio"
   ]
  },
  {
   "cell_type": "code",
   "execution_count": 132,
   "metadata": {},
   "outputs": [],
   "source": [
    "q = innovation_number['ratio'].quantile([0, 0.1, 0.25, 0.33, 0.5, 0.75, 0.9, 1]).to_list()"
   ]
  },
  {
   "cell_type": "code",
   "execution_count": 135,
   "metadata": {},
   "outputs": [
    {
     "name": "stdout",
     "output_type": "stream",
     "text": [
      "mean      0.055001\n",
      "median    0.049981\n",
      "Name: p_c, dtype: float64\n",
      "mean      0.068273\n",
      "median    0.050279\n",
      "Name: p_c, dtype: float64\n"
     ]
    }
   ],
   "source": [
    "more = price_chg_3m.iloc[innovation_number[innovation_number['ratio'] >= q[-2]].index]\n",
    "less = price_chg_3m.iloc[innovation_number[innovation_number['ratio'] <= q[1]].index]\n",
    "\n",
    "print(more['p_c'].agg(['mean', 'median']))\n",
    "print(less['p_c'].agg(['mean', 'median']))"
   ]
  },
  {
   "cell_type": "code",
   "execution_count": 136,
   "metadata": {},
   "outputs": [
    {
     "name": "stdout",
     "output_type": "stream",
     "text": [
      "mean      0.052238\n",
      "median    0.045792\n",
      "Name: p_c, dtype: float64\n",
      "mean      0.057810\n",
      "median    0.041188\n",
      "Name: p_c, dtype: float64\n"
     ]
    }
   ],
   "source": [
    "more = price_chg_3m.iloc[innovation_number[innovation_number['ratio'] >= q[-3]].index]\n",
    "less = price_chg_3m.iloc[innovation_number[innovation_number['ratio'] <= q[2]].index]\n",
    "\n",
    "print(more['p_c'].agg(['mean', 'median']))\n",
    "print(less['p_c'].agg(['mean', 'median']))"
   ]
  },
  {
   "cell_type": "code",
   "execution_count": 137,
   "metadata": {},
   "outputs": [
    {
     "name": "stdout",
     "output_type": "stream",
     "text": [
      "mean      0.050138\n",
      "median    0.048290\n",
      "Name: p_c, dtype: float64\n",
      "mean      0.059253\n",
      "median    0.043477\n",
      "Name: p_c, dtype: float64\n"
     ]
    }
   ],
   "source": [
    "more = price_chg_3m.iloc[innovation_number[innovation_number['ratio'] >= q[-4]].index]\n",
    "less = price_chg_3m.iloc[innovation_number[innovation_number['ratio'] <= q[3]].index]\n",
    "\n",
    "print(more['p_c'].agg(['mean', 'median']))\n",
    "print(less['p_c'].agg(['mean', 'median']))"
   ]
  },
  {
   "cell_type": "code",
   "execution_count": 138,
   "metadata": {},
   "outputs": [
    {
     "name": "stdout",
     "output_type": "stream",
     "text": [
      "mean      0.050138\n",
      "median    0.048290\n",
      "Name: p_c, dtype: float64\n",
      "mean      0.059431\n",
      "median    0.044397\n",
      "Name: p_c, dtype: float64\n"
     ]
    }
   ],
   "source": [
    "more = price_chg_3m.iloc[innovation_number[innovation_number['ratio'] >= q[4]].index]\n",
    "less = price_chg_3m.iloc[innovation_number[innovation_number['ratio'] < q[4]].index]\n",
    "\n",
    "print(more['p_c'].agg(['mean', 'median']))\n",
    "print(less['p_c'].agg(['mean', 'median']))"
   ]
  }
 ],
 "metadata": {
  "interpreter": {
   "hash": "46871df94ef8bf4d6d09bb814809c54070b9d3b7beb6b0833b6d009c707a5610"
  },
  "kernelspec": {
   "display_name": "Python 3.9.10 ('base')",
   "language": "python",
   "name": "python3"
  },
  "language_info": {
   "codemirror_mode": {
    "name": "ipython",
    "version": 3
   },
   "file_extension": ".py",
   "mimetype": "text/x-python",
   "name": "python",
   "nbconvert_exporter": "python",
   "pygments_lexer": "ipython3",
   "version": "3.9.10"
  },
  "orig_nbformat": 4
 },
 "nbformat": 4,
 "nbformat_minor": 2
}
